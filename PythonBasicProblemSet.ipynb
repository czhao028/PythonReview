{
 "cells": [
  {
   "cell_type": "markdown",
   "metadata": {},
   "source": [
    "# Python Review Code Questions"
   ]
  },
  {
   "cell_type": "markdown",
   "metadata": {},
   "source": [
    "## Numbers\n",
    "                Numbers are the highest degree of knowledge. It is knowledge itself. - Plato"
   ]
  },
  {
   "cell_type": "markdown",
   "metadata": {},
   "source": [
    "#### In 1061 basketball games Lebron James scored 28,787 points. Print how many points he averaged per game"
   ]
  },
  {
   "cell_type": "code",
   "execution_count": 5,
   "metadata": {
    "collapsed": false
   },
   "outputs": [
    {
     "name": "stdout",
     "output_type": "stream",
     "text": [
      "27.131950989632422\n"
     ]
    }
   ],
   "source": [
    "# write code here\n",
    "l = 28787/1061\n",
    "print(l)"
   ]
  },
  {
   "cell_type": "markdown",
   "metadata": {},
   "source": [
    "#### In Michael Jordan's first 1061 basketball games he scored 32,061 points. Print how many points he averaged per game"
   ]
  },
  {
   "cell_type": "code",
   "execution_count": 4,
   "metadata": {
    "collapsed": false
   },
   "outputs": [
    {
     "name": "stdout",
     "output_type": "stream",
     "text": [
      "30.217719132893496\n"
     ]
    }
   ],
   "source": [
    "# write code here\n",
    "m = 32061/1061\n",
    "print(m)\n"
   ]
  },
  {
   "cell_type": "markdown",
   "metadata": {},
   "source": [
    "#### Print the difference between Michael Jordan's average and Lebron James average in their first 1061 basketball games?"
   ]
  },
  {
   "cell_type": "code",
   "execution_count": 6,
   "metadata": {
    "collapsed": false
   },
   "outputs": [
    {
     "name": "stdout",
     "output_type": "stream",
     "text": [
      "3.085768143261074\n"
     ]
    }
   ],
   "source": [
    "# write code here\n",
    "print(m-l)"
   ]
  },
  {
   "cell_type": "markdown",
   "metadata": {},
   "source": [
    "#### Write a for loop that prints out all even numbers between 1 and 11. Use python's modulo (%) operator"
   ]
  },
  {
   "cell_type": "code",
   "execution_count": 7,
   "metadata": {
    "collapsed": false
   },
   "outputs": [
    {
     "name": "stdout",
     "output_type": "stream",
     "text": [
      "2\n",
      "4\n",
      "6\n",
      "8\n",
      "10\n"
     ]
    }
   ],
   "source": [
    "# write code here\n",
    "for i in range(1, 11):\n",
    "    if i % 2 == 0:\n",
    "        print(i)"
   ]
  },
  {
   "cell_type": "markdown",
   "metadata": {},
   "source": [
    "## Strings\n",
    "       False words are not only evil in themselves, but they infect the soul with evil. - socrates"
   ]
  },
  {
   "cell_type": "markdown",
   "metadata": {},
   "source": [
    "#### Assign a string to the variable below and print the variable."
   ]
  },
  {
   "cell_type": "code",
   "execution_count": 8,
   "metadata": {
    "collapsed": false
   },
   "outputs": [
    {
     "name": "stdout",
     "output_type": "stream",
     "text": [
      "Escape\n"
     ]
    }
   ],
   "source": [
    "fav_song_title = \"Escape\"\n",
    "print(fav_song_title)"
   ]
  },
  {
   "cell_type": "markdown",
   "metadata": {},
   "source": [
    "#### Use a Python special character to print out two lines from your favorite song\n",
    "i.e)           \n",
    "Just a small town girl                                              \n",
    "living in a lonely world"
   ]
  },
  {
   "cell_type": "code",
   "execution_count": 9,
   "metadata": {
    "collapsed": false
   },
   "outputs": [
    {
     "name": "stdout",
     "output_type": "stream",
     "text": [
      "Yes I like pina colada\n",
      "Getting caught in the rain\n"
     ]
    }
   ],
   "source": [
    "print(\"Yes I like pina colada\\nGetting caught in the rain\")"
   ]
  },
  {
   "cell_type": "markdown",
   "metadata": {},
   "source": [
    "#### Concatenate the two variables below and assign to a new variable"
   ]
  },
  {
   "cell_type": "code",
   "execution_count": 10,
   "metadata": {
    "collapsed": true
   },
   "outputs": [],
   "source": [
    "line_1 = 'say what you '\n",
    "line_2 = 'need to say'\n",
    "line_sum = line_1+line_2"
   ]
  },
  {
   "cell_type": "markdown",
   "metadata": {},
   "source": [
    "#### Print your new variable 8 times using the * operator. Each time the string should be printed on a new line"
   ]
  },
  {
   "cell_type": "code",
   "execution_count": 11,
   "metadata": {
    "collapsed": false
   },
   "outputs": [
    {
     "name": "stdout",
     "output_type": "stream",
     "text": [
      "say what you need to say\n",
      "say what you need to say\n",
      "say what you need to say\n",
      "say what you need to say\n",
      "say what you need to say\n",
      "say what you need to say\n",
      "say what you need to say\n",
      "say what you need to say\n",
      "\n"
     ]
    }
   ],
   "source": [
    "# write code here\n",
    "line_new = 8*(line_sum + '\\n')\n",
    "print(line_new)"
   ]
  },
  {
   "cell_type": "markdown",
   "metadata": {},
   "source": [
    "#### Add and print the two variables below. Hint: use type casting (if you don't know type casting google it!)"
   ]
  },
  {
   "cell_type": "code",
   "execution_count": 12,
   "metadata": {
    "collapsed": false
   },
   "outputs": [
    {
     "name": "stdout",
     "output_type": "stream",
     "text": [
      "6\n"
     ]
    }
   ],
   "source": [
    "num_good_miley_songs = \"4\"\n",
    "num_good_beiber_songs = \"2\"\n",
    "summation = (int(num_good_miley_songs) + int(num_good_beiber_songs))\n",
    "print(summation)"
   ]
  },
  {
   "cell_type": "markdown",
   "metadata": {},
   "source": [
    "## Lists\n",
    "     People who want to appear clever rely on memory. People who want to get things done make lists. "
   ]
  },
  {
   "cell_type": "markdown",
   "metadata": {},
   "source": [
    "####  Create a list with your 5 favorite foods as strings"
   ]
  },
  {
   "cell_type": "code",
   "execution_count": 13,
   "metadata": {
    "collapsed": true
   },
   "outputs": [],
   "source": [
    "list_food = ['watermelon', 'strawberry','grape', 'blueberry', 'kiwi',]"
   ]
  },
  {
   "cell_type": "markdown",
   "metadata": {},
   "source": [
    "#### Use indexing to print  your first three items in the list"
   ]
  },
  {
   "cell_type": "code",
   "execution_count": 14,
   "metadata": {
    "collapsed": false
   },
   "outputs": [
    {
     "name": "stdout",
     "output_type": "stream",
     "text": [
      "['watermelon', 'strawberry', 'grape']\n"
     ]
    }
   ],
   "source": [
    "# write code here\n",
    "print(list_food[0:3])"
   ]
  },
  {
   "cell_type": "markdown",
   "metadata": {},
   "source": [
    "#### Append the string below to your list"
   ]
  },
  {
   "cell_type": "code",
   "execution_count": 15,
   "metadata": {
    "collapsed": true
   },
   "outputs": [],
   "source": [
    "# write code here\n",
    "best_food = \"Johnny's Grandma's Spaghetti\"\n",
    "# ^ notice the use of single quotes within double quotes\n",
    "\n",
    "list_food.append(best_food)"
   ]
  },
  {
   "cell_type": "markdown",
   "metadata": {},
   "source": [
    "#### Concatenate the list below to your list"
   ]
  },
  {
   "cell_type": "code",
   "execution_count": 16,
   "metadata": {
    "collapsed": true
   },
   "outputs": [],
   "source": [
    "# write code here\n",
    "other_good_foods = [\"chicken salad\", \"lemon meringue pie\"]\n",
    "list_food.extend(other_good_foods)"
   ]
  },
  {
   "cell_type": "markdown",
   "metadata": {},
   "source": [
    "#### Print the length of your list"
   ]
  },
  {
   "cell_type": "code",
   "execution_count": 20,
   "metadata": {
    "collapsed": false
   },
   "outputs": [
    {
     "name": "stdout",
     "output_type": "stream",
     "text": [
      "8\n"
     ]
    }
   ],
   "source": [
    "# write code here\n",
    "print(len(list_food))"
   ]
  },
  {
   "cell_type": "markdown",
   "metadata": {},
   "source": [
    "## Control Flow\n",
    "        Flo(w) from Progressive: Sprinkles are for winners"
   ]
  },
  {
   "cell_type": "markdown",
   "metadata": {},
   "source": [
    "### Assign a number to the variable"
   ]
  },
  {
   "cell_type": "code",
   "execution_count": 22,
   "metadata": {
    "collapsed": true
   },
   "outputs": [],
   "source": [
    "distance_from_boston = 5"
   ]
  },
  {
   "cell_type": "markdown",
   "metadata": {},
   "source": [
    "#### Use control statements to print out 'close' if distance_from_boston is within 50 miles, 'drivable' if distance_from_boston is within 100 miles but greater than 50 miles, and 'far' if distance_from_boston is greater than 100 miles"
   ]
  },
  {
   "cell_type": "code",
   "execution_count": 23,
   "metadata": {
    "collapsed": false
   },
   "outputs": [
    {
     "name": "stdout",
     "output_type": "stream",
     "text": [
      "close\n"
     ]
    }
   ],
   "source": [
    "# write code here\n",
    "if(distance_from_boston <= 50):\n",
    "    print(\"close\")\n",
    "elif(distance_from_boston <= 100):\n",
    "    print(\"drivable\")\n",
    "else:\n",
    "    print(\"far\")"
   ]
  },
  {
   "cell_type": "markdown",
   "metadata": {},
   "source": [
    "## Loop through all integers between 1 and 11 and print even numbers but use a different type of loop then above"
   ]
  },
  {
   "cell_type": "code",
   "execution_count": 24,
   "metadata": {
    "collapsed": false
   },
   "outputs": [
    {
     "name": "stdout",
     "output_type": "stream",
     "text": [
      "1\n",
      "3\n",
      "5\n",
      "7\n",
      "9\n"
     ]
    }
   ],
   "source": [
    "for i in range(1, 11, 2):\n",
    "    print(i)"
   ]
  },
  {
   "cell_type": "markdown",
   "metadata": {},
   "source": [
    "## Extra Coding Challenges\n",
    "        There are no traffic jams along the extra mile"
   ]
  },
  {
   "cell_type": "markdown",
   "metadata": {
    "collapsed": true
   },
   "source": [
    "#### Write a function here that returns 'fizz' if x if divisible by 3, 'buzz' if x is divisible by 5 'fizzbuzz' if x is divisible by both three and five, and x otherwise"
   ]
  },
  {
   "cell_type": "code",
   "execution_count": null,
   "metadata": {
    "collapsed": true
   },
   "outputs": [],
   "source": [
    "def compute_this(x)\n",
    "    if x%3 == 0 and x%5 == 0:\n",
    "        return \"fizzbuzz\"\n",
    "    elif x%3 == 0:\n",
    "        return \"fizz\" \n",
    "    elif x%5 == 0:\n",
    "        return \"buzz\"\n",
    "    else:\n",
    "        return x"
   ]
  },
  {
   "cell_type": "markdown",
   "metadata": {},
   "source": [
    "#### Write a function that accomplishes the following \n",
    "        \n",
    "        1) Append x to a list\n",
    "        2) If x is even, divide it by 2 and add the resulting number to the list\n",
    "        3) If x is odd, multiply it by 3 and add 1. Add the resulting number to the list\n",
    "        4) Repeat steps 2 and 3 until you reach the number 1\n",
    "        5) Return the list\n",
    "        \n",
    "        HINT: your_list[0] should be x and your_list[-1] should be 1"
   ]
  },
  {
   "cell_type": "code",
   "execution_count": null,
   "metadata": {
    "collapsed": true
   },
   "outputs": [],
   "source": [
    "list_this = []\n",
    "def appending_function(x):\n",
    "    while(x!= 1): \n",
    "        if x%2 == 0:\n",
    "            x = x/2\n",
    "        else:\n",
    "    elif x"
   ]
  },
  {
   "cell_type": "markdown",
   "metadata": {},
   "source": [
    "#### Write a function that, given n, computes the nth fibonacci number (using recursion)"
   ]
  },
  {
   "cell_type": "code",
   "execution_count": 25,
   "metadata": {
    "collapsed": false
   },
   "outputs": [
    {
     "data": {
      "text/plain": [
       "55"
      ]
     },
     "execution_count": 25,
     "metadata": {},
     "output_type": "execute_result"
    }
   ],
   "source": [
    "def fib(n):\n",
    "    if n == 0:\n",
    "        return 0\n",
    "    if n == 1:\n",
    "        return 1\n",
    "    else:\n",
    "        return fib(n-2) + fib(n-1)\n",
    "fib(10)"
   ]
  },
  {
   "cell_type": "markdown",
   "metadata": {},
   "source": [
    "#### Use slicing to write a function that accepts a list and returns the list reversed"
   ]
  },
  {
   "cell_type": "code",
   "execution_count": 5,
   "metadata": {
    "collapsed": true
   },
   "outputs": [],
   "source": []
  },
  {
   "cell_type": "markdown",
   "metadata": {},
   "source": [
    "#### Write a function that tells if a string is a palindrome"
   ]
  },
  {
   "cell_type": "code",
   "execution_count": 7,
   "metadata": {
    "collapsed": true
   },
   "outputs": [],
   "source": [
    "def is_pal(listing):\n",
    "    return listing == reverse(listing)"
   ]
  },
  {
   "cell_type": "markdown",
   "metadata": {},
   "source": [
    "#### Write a function that reverses a string"
   ]
  },
  {
   "cell_type": "code",
   "execution_count": 8,
   "metadata": {
    "collapsed": true
   },
   "outputs": [],
   "source": [
    "reverse(\"\")"
   ]
  }
 ],
 "metadata": {
  "kernelspec": {
   "display_name": "Python 3",
   "language": "python",
   "name": "python3"
  },
  "language_info": {
   "codemirror_mode": {
    "name": "ipython",
    "version": 3
   },
   "file_extension": ".py",
   "mimetype": "text/x-python",
   "name": "python",
   "nbconvert_exporter": "python",
   "pygments_lexer": "ipython3",
   "version": "3.6.0"
  }
 },
 "nbformat": 4,
 "nbformat_minor": 1
}
