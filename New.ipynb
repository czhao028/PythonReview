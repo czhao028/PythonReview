{
 "cells": [
  {
   "cell_type": "markdown",
   "metadata": {},
   "source": [
    "# Markdown\n",
    "\n",
    "Hello world\n",
    "\n",
    "\n",
    "bananana = 3\n",
    "banana = 4\n",
    "banana"
   ]
  },
  {
   "cell_type": "code",
   "execution_count": null,
   "metadata": {
    "collapsed": true
   },
   "outputs": [],
   "source": [
    "a = \"Ammple\""
   ]
  },
  {
   "cell_type": "code",
   "execution_count": 8,
   "metadata": {
    "collapsed": false
   },
   "outputs": [
    {
     "data": {
      "text/plain": [
       "'ammple'"
      ]
     },
     "execution_count": 8,
     "metadata": {},
     "output_type": "execute_result"
    }
   ],
   "source": [
    "a.lower()"
   ]
  },
  {
   "cell_type": "code",
   "execution_count": 10,
   "metadata": {
    "collapsed": true
   },
   "outputs": [],
   "source": [
    "x, y = [1, 2]"
   ]
  },
  {
   "cell_type": "code",
   "execution_count": 12,
   "metadata": {
    "collapsed": false
   },
   "outputs": [],
   "source": [
    "x = [1, 2, 3]\n",
    "y = [\"x,\", \"y\", \"z\"]"
   ]
  },
  {
   "cell_type": "code",
   "execution_count": 24,
   "metadata": {
    "collapsed": false
   },
   "outputs": [
    {
     "data": {
      "text/plain": [
       "[(1, 2, 3), ('x,', 'y', 'z')]"
      ]
     },
     "execution_count": 24,
     "metadata": {},
     "output_type": "execute_result"
    }
   ],
   "source": [
    "list2 = []\n",
    "list3 = []\n",
    "list_o = []\n",
    "list(zip(*zip(x,y)))\n"
   ]
  },
  {
   "cell_type": "markdown",
   "metadata": {},
   "source": [
    "# Alternate case: ApPlE from Apple\n",
    "''.join(['a','b'])\n",
    "-itertools\n",
    "-mathprimer\n",
    "-slicing every other & every odd other\n",
    "-zip two things together\n",
    "-zip longest\n",
    "\n",
    "```python\n",
    "def f(x):\n",
    "    return x\n",
    "```\n",
    "\n",
    "```python\n",
    "def f(x):\n",
    "    return x\n",
    "``` "
   ]
  },
  {
   "cell_type": "code",
   "execution_count": 42,
   "metadata": {
    "collapsed": false
   },
   "outputs": [
    {
     "data": {
      "text/plain": [
       "'JuIcE'"
      ]
     },
     "execution_count": 42,
     "metadata": {},
     "output_type": "execute_result"
    }
   ],
   "source": [
    "from itertools import *\n",
    "import itertools\n",
    "def slicer(st):\n",
    "    upper = st[0::2].upper()\n",
    "    lower = st[1::2].lower()\n",
    "    \n",
    "    a = list(chain.from_iterable(list(zip_longest(upper, lower))))\n",
    "    a = [x for x in a if not x is None]\n",
    "    return \"\".join(a)\n",
    "    \n",
    "    \n",
    "slicer(\"Apple\")\n",
    "slicer(\"CogWorks\")\n",
    "slicer(\"juice\")\n"
   ]
  },
  {
   "cell_type": "code",
   "execution_count": null,
   "metadata": {
    "collapsed": true
   },
   "outputs": [],
   "source": []
  }
 ],
 "metadata": {
  "kernelspec": {
   "display_name": "Python 3",
   "language": "python",
   "name": "python3"
  },
  "language_info": {
   "codemirror_mode": {
    "name": "ipython",
    "version": 3
   },
   "file_extension": ".py",
   "mimetype": "text/x-python",
   "name": "python",
   "nbconvert_exporter": "python",
   "pygments_lexer": "ipython3",
   "version": "3.6.0"
  }
 },
 "nbformat": 4,
 "nbformat_minor": 2
}
